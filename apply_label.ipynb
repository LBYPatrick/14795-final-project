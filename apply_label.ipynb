{
 "cells": [
  {
   "cell_type": "code",
   "execution_count": 5,
   "metadata": {
    "colab": {
     "base_uri": "https://localhost:8080/"
    },
    "executionInfo": {
     "elapsed": 8750,
     "status": "ok",
     "timestamp": 1741909925300,
     "user": {
      "displayName": "Patrick Liao (LBYPatrick)",
      "userId": "03016135564925096917"
     },
     "user_tz": 420
    },
    "id": "iOmQomRx8myD",
    "outputId": "43dfc82e-1707-4922-f0b0-761e07a55d6a"
   },
   "outputs": [],
   "source": [
    "import functools\n",
    "import pandas as pd\n",
    "import numpy as np\n",
    "import matplotlib.pyplot as plt\n",
    "import seaborn as sns\n",
    "import torch\n",
    "\n",
    "from typing import Dict, Any, Optional, List, Tuple\n",
    "from transformers import pipeline"
   ]
  },
  {
   "cell_type": "code",
   "execution_count": 1,
   "metadata": {},
   "outputs": [
    {
     "ename": "NameError",
     "evalue": "name 'pd' is not defined",
     "output_type": "error",
     "traceback": [
      "\u001b[31m---------------------------------------------------------------------------\u001b[39m",
      "\u001b[31mNameError\u001b[39m                                 Traceback (most recent call last)",
      "\u001b[36mCell\u001b[39m\u001b[36m \u001b[39m\u001b[32mIn[1]\u001b[39m\u001b[32m, line 1\u001b[39m\n\u001b[32m----> \u001b[39m\u001b[32m1\u001b[39m dataset = \u001b[43mpd\u001b[49m.read_csv(\u001b[33m\"\u001b[39m\u001b[33mdata/train.csv\u001b[39m\u001b[33m\"\u001b[39m)\n",
      "\u001b[31mNameError\u001b[39m: name 'pd' is not defined"
     ]
    }
   ],
   "source": [
    "dataset = pd.read_csv(\"data/train.csv\")"
   ]
  },
  {
   "cell_type": "markdown",
   "metadata": {
    "id": "qdjPOPCTCp6f"
   },
   "source": [
    "## NLTK-based word frequency inspection"
   ]
  },
  {
   "cell_type": "code",
   "execution_count": 9,
   "metadata": {
    "colab": {
     "base_uri": "https://localhost:8080/"
    },
    "executionInfo": {
     "elapsed": 2021,
     "status": "ok",
     "timestamp": 1741909979855,
     "user": {
      "displayName": "Patrick Liao (LBYPatrick)",
      "userId": "03016135564925096917"
     },
     "user_tz": 420
    },
    "id": "wG2Tl_gbWtIo",
    "outputId": "aa46e504-2caf-45b1-a141-ef082733cf72"
   },
   "outputs": [
    {
     "name": "stderr",
     "output_type": "stream",
     "text": [
      "Device set to use cuda:0\n"
     ]
    }
   ],
   "source": [
    "classifier = pipeline(\n",
    "    \"zero-shot-classification\", model=\"facebook/bart-large-mnli\", device_map=\"auto\"\n",
    ")"
   ]
  },
  {
   "cell_type": "code",
   "execution_count": 12,
   "metadata": {
    "executionInfo": {
     "elapsed": 5,
     "status": "ok",
     "timestamp": 1741909979879,
     "user": {
      "displayName": "Patrick Liao (LBYPatrick)",
      "userId": "03016135564925096917"
     },
     "user_tz": 420
    },
    "id": "wSmpOc4rzoZ4"
   },
   "outputs": [],
   "source": [
    "class AiData(torch.utils.data.Dataset):\n",
    "    def __init__(self, df):\n",
    "        self.data = df[\"ai_text\"].tolist()\n",
    "\n",
    "    def __len__(self):\n",
    "        return len(self.data)\n",
    "\n",
    "    def __getitem__(self, idx):\n",
    "        return self.data[idx]"
   ]
  },
  {
   "cell_type": "code",
   "execution_count": 16,
   "metadata": {
    "colab": {
     "base_uri": "https://localhost:8080/"
    },
    "executionInfo": {
     "elapsed": 214892,
     "status": "ok",
     "timestamp": 1741910676874,
     "user": {
      "displayName": "Patrick Liao (LBYPatrick)",
      "userId": "03016135564925096917"
     },
     "user_tz": 420
    },
    "id": "zUEifIVB5rsK",
    "outputId": "247cdfa8-393c-4470-bd33-1389c6976704"
   },
   "outputs": [
    {
     "name": "stdout",
     "output_type": "stream",
     "text": [
      "PROGRESS: 100 / 100"
     ]
    }
   ],
   "source": [
    "idx = 0\n",
    "n_entries = 100\n",
    "label_rows = []\n",
    "h_batch_size = 128\n",
    "diff = 0\n",
    "\n",
    "sample_sm = df.sample(n_entries)\n",
    "data = AiData(sample_sm)\n",
    "\n",
    "for r in classifier(data, combined_tags, batch_size=h_batch_size):\n",
    "\n",
    "    print(f\"\\rPROGRESS: {idx + 1} / {n_entries}\", end=\"\")\n",
    "    row = [r[\"sequence\"]]\n",
    "\n",
    "    for c in combined_tags:\n",
    "        row.append(r[\"scores\"][r[\"labels\"].index(c)])\n",
    "\n",
    "    label_rows.append(row)\n",
    "    idx += 1\n",
    "\n",
    "    # Purge cache once in a while\n",
    "    if idx - diff > h_batch_size * 8:\n",
    "        torch.cuda.empty_cache()\n",
    "        diff = idx\n",
    "\n",
    "\n",
    "df_labels = pd.DataFrame(label_rows, columns=[\"ai_text\"] + combined_tags)\n",
    "df_labels.to_csv(f\"labels.csv\", index=False)"
   ]
  },
  {
   "cell_type": "code",
   "execution_count": null,
   "metadata": {
    "executionInfo": {
     "elapsed": 165860,
     "status": "aborted",
     "timestamp": 1741910079664,
     "user": {
      "displayName": "Patrick Liao (LBYPatrick)",
      "userId": "03016135564925096917"
     },
     "user_tz": 420
    },
    "id": "NYK-leJS6iCW"
   },
   "outputs": [],
   "source": [
    "with torch.no_grad():\n",
    "    torch.cuda.empty_cache()"
   ]
  },
  {
   "cell_type": "code",
   "execution_count": 15,
   "metadata": {
    "colab": {
     "base_uri": "https://localhost:8080/",
     "height": 144
    },
    "executionInfo": {
     "elapsed": 15,
     "status": "error",
     "timestamp": 1741910409151,
     "user": {
      "displayName": "Patrick Liao (LBYPatrick)",
      "userId": "03016135564925096917"
     },
     "user_tz": 420
    },
    "id": "vLO_nwRB63gA",
    "outputId": "bfb77c98-eaa3-416b-fb61-f2cbbfef25c0"
   },
   "outputs": [
    {
     "ename": "NameError",
     "evalue": "name 'df_labels' is not defined",
     "output_type": "error",
     "traceback": [
      "\u001b[0;31m---------------------------------------------------------------------------\u001b[0m",
      "\u001b[0;31mNameError\u001b[0m                                 Traceback (most recent call last)",
      "\u001b[0;32m<ipython-input-15-569c177ece25>\u001b[0m in \u001b[0;36m<cell line: 0>\u001b[0;34m()\u001b[0m\n\u001b[0;32m----> 1\u001b[0;31m \u001b[0mdf_labels\u001b[0m\u001b[0;34m\u001b[0m\u001b[0;34m\u001b[0m\u001b[0m\n\u001b[0m",
      "\u001b[0;31mNameError\u001b[0m: name 'df_labels' is not defined"
     ]
    }
   ],
   "source": []
  },
  {
   "cell_type": "code",
   "execution_count": null,
   "metadata": {
    "id": "NUbOwj3P837R"
   },
   "outputs": [],
   "source": []
  }
 ],
 "metadata": {
  "accelerator": "GPU",
  "colab": {
   "authorship_tag": "ABX9TyOzdONTOm3+eku8aBi30eky",
   "gpuType": "T4",
   "machine_shape": "hm",
   "provenance": []
  },
  "kernelspec": {
   "display_name": ".venv",
   "language": "python",
   "name": "python3"
  },
  "language_info": {
   "codemirror_mode": {
    "name": "ipython",
    "version": 3
   },
   "file_extension": ".py",
   "mimetype": "text/x-python",
   "name": "python",
   "nbconvert_exporter": "python",
   "pygments_lexer": "ipython3",
   "version": "3.12.10"
  }
 },
 "nbformat": 4,
 "nbformat_minor": 0
}
